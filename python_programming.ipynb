{
  "nbformat": 4,
  "nbformat_minor": 0,
  "metadata": {
    "colab": {
      "provenance": [],
      "authorship_tag": "ABX9TyMDSJD2qjPMwV9gZY7EOzX2",
      "include_colab_link": true
    },
    "kernelspec": {
      "name": "python3",
      "display_name": "Python 3"
    },
    "language_info": {
      "name": "python"
    }
  },
  "cells": [
    {
      "cell_type": "markdown",
      "metadata": {
        "id": "view-in-github",
        "colab_type": "text"
      },
      "source": [
        "<a href=\"https://colab.research.google.com/github/dheeraj607162/k.n.king/blob/main/python_programming.ipynb\" target=\"_parent\"><img src=\"https://colab.research.google.com/assets/colab-badge.svg\" alt=\"Open In Colab\"/></a>"
      ]
    },
    {
      "cell_type": "markdown",
      "source": [
        "# **Introduction**\n",
        "Python is a dynamic, interpreted (bytecode-compiled) language. There are no type declarations of variables, parameters, functions, or methods in source code. This makes the code short and flexible, and you lose the compile-time type checking of the source code\n",
        "*##Python History*\n",
        "Python was conceived in the late 1980s by Guido van Rossum at Centrum Wiskunde & Informatica (CWI) in the Netherlands as a successor to the ABC programming language, which was inspired by SETL, capable of exception handling and interfacing with the Amoeba operating system. Its implementation began in December 1989\n",
        "###Features\n",
        "\n",
        "\n",
        "1.  Simple anad easy to learn\n",
        "2.  object oriented\n",
        "3.  huge library support\n",
        "4.  expandablrz and extendble\n",
        "5. platform independent\n",
        "6.  dynamic language\n",
        "\n",
        "\n",
        "\n",
        "\n",
        "\n",
        "\n",
        "\n",
        "\n"
      ],
      "metadata": {
        "id": "pVcamWsf1ZET"
      }
    },
    {
      "cell_type": "markdown",
      "source": [],
      "metadata": {
        "id": "_CJ5jcXjAKNk"
      }
    },
    {
      "cell_type": "markdown",
      "source": [
        "![8-Steps-to-master-Python-programming-for-Data-Science.webp](data:image/webp;base64,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)"
      ],
      "metadata": {
        "id": "vj49IlCfBQBU"
      }
    },
    {
      "cell_type": "code",
      "source": [
        "2+3\n"
      ],
      "metadata": {
        "colab": {
          "base_uri": "https://localhost:8080/"
        },
        "id": "JqzMfKca3hYz",
        "outputId": "20d77733-1aff-4e42-f237-bfce78798222"
      },
      "execution_count": null,
      "outputs": [
        {
          "output_type": "execute_result",
          "data": {
            "text/plain": [
              "5"
            ]
          },
          "metadata": {},
          "execution_count": 3
        }
      ]
    },
    {
      "cell_type": "code",
      "source": [
        "#variable\n",
        "a=5\n",
        "a"
      ],
      "metadata": {
        "colab": {
          "base_uri": "https://localhost:8080/"
        },
        "id": "oeoarZ_S3sMD",
        "outputId": "4195e49a-3b0b-4847-d780-84633bb43cc4"
      },
      "execution_count": null,
      "outputs": [
        {
          "output_type": "execute_result",
          "data": {
            "text/plain": [
              "5"
            ]
          },
          "metadata": {},
          "execution_count": 4
        }
      ]
    },
    {
      "cell_type": "code",
      "source": [
        "#addition\n",
        "a=10\n",
        "b=12\n",
        "a+b\n"
      ],
      "metadata": {
        "colab": {
          "base_uri": "https://localhost:8080/"
        },
        "id": "Yvi6Ge-Y3_2V",
        "outputId": "ee72c7c2-b980-45fa-9b00-868ac8cbf59b"
      },
      "execution_count": null,
      "outputs": [
        {
          "output_type": "execute_result",
          "data": {
            "text/plain": [
              "22"
            ]
          },
          "metadata": {},
          "execution_count": 5
        }
      ]
    },
    {
      "cell_type": "code",
      "source": [
        "print(5+10)"
      ],
      "metadata": {
        "colab": {
          "base_uri": "https://localhost:8080/"
        },
        "id": "fVkGMKjs4FLy",
        "outputId": "d55d9e36-eedb-42d1-b9f1-81dd5c2111d7"
      },
      "execution_count": null,
      "outputs": [
        {
          "output_type": "stream",
          "name": "stdout",
          "text": [
            "15\n"
          ]
        }
      ]
    },
    {
      "cell_type": "code",
      "source": [
        "#demo\n",
        "a='set8'\n",
        "print(type(a))\n",
        "print(a)"
      ],
      "metadata": {
        "colab": {
          "base_uri": "https://localhost:8080/"
        },
        "id": "4AZGZrO14Sjj",
        "outputId": "a1af3d99-b45b-4d7e-d638-18cd2a8a44f7"
      },
      "execution_count": null,
      "outputs": [
        {
          "output_type": "stream",
          "name": "stdout",
          "text": [
            "<class 'str'>\n",
            "set8\n"
          ]
        }
      ]
    },
    {
      "cell_type": "code",
      "source": [
        "#type of numerical\n",
        "a=56\n",
        "b=23.56\n",
        "c=234                                                                      \n",
        "d=34+8j\n",
        "print(a)\n",
        "print(type(a))\n",
        "print(b)\n",
        "print(type(b))\n",
        "print(c)\n",
        "print(type(c))\n",
        "print(d)\n",
        "print(type(d))"
      ],
      "metadata": {
        "colab": {
          "base_uri": "https://localhost:8080/"
        },
        "id": "K1l3ydBI5hRr",
        "outputId": "c88afd1d-c568-42ec-c237-360c392627dc"
      },
      "execution_count": null,
      "outputs": [
        {
          "output_type": "stream",
          "name": "stdout",
          "text": [
            "56\n",
            "<class 'int'>\n",
            "23.56\n",
            "<class 'float'>\n",
            "234\n",
            "<class 'int'>\n",
            "(34+8j)\n",
            "<class 'complex'>\n"
          ]
        }
      ]
    },
    {
      "cell_type": "code",
      "source": [
        "#strings\n",
        "a=\"set8first _class\"\n",
        "b =\"roll_no\"\n",
        "\n",
        "print(a+\" \"+b)"
      ],
      "metadata": {
        "colab": {
          "base_uri": "https://localhost:8080/"
        },
        "id": "hMrHcZ4G7wpE",
        "outputId": "ee8a10a0-a867-4200-cff0-72df689c19a7"
      },
      "execution_count": null,
      "outputs": [
        {
          "output_type": "stream",
          "name": "stdout",
          "text": [
            "set8first _class roll_no\n"
          ]
        }
      ]
    },
    {
      "cell_type": "code",
      "source": [
        "a=\"this\"\n",
        "b=\"is\"\n",
        "c='\"phthon\"'\n",
        "d=\"class\"\n",
        "print(a+\" \"+b+\" \"+c+\" \"+d)"
      ],
      "metadata": {
        "colab": {
          "base_uri": "https://localhost:8080/"
        },
        "id": "NPfBZG3J83W9",
        "outputId": "ffa340cd-a584-4859-b157-d9e03efd2930"
      },
      "execution_count": null,
      "outputs": [
        {
          "output_type": "stream",
          "name": "stdout",
          "text": [
            "this is \"phthon\" class\n"
          ]
        }
      ]
    },
    {
      "cell_type": "code",
      "source": [
        "a=\"sumdeep's\"\n",
        "b=\"text\"\n",
        "c=\"book\"\n",
        "print(a+\" \"+b+\" \"+c)\n"
      ],
      "metadata": {
        "colab": {
          "base_uri": "https://localhost:8080/"
        },
        "id": "BE1F6aVh-U48",
        "outputId": "842d8fcc-9acf-45dc-dc77-fd44eea24fb2"
      },
      "execution_count": null,
      "outputs": [
        {
          "output_type": "stream",
          "name": "stdout",
          "text": [
            "sumdeep's text book\n"
          ]
        }
      ]
    },
    {
      "cell_type": "code",
      "source": [
        "s=4\n",
        "b=10\n",
        "print(s>b)\n",
        "print(s==b)\n",
        "print(b>s)\n"
      ],
      "metadata": {
        "colab": {
          "base_uri": "https://localhost:8080/"
        },
        "id": "QWRDj8HC-wZU",
        "outputId": "29171996-dfee-4989-bff9-2edd8575f6a2"
      },
      "execution_count": null,
      "outputs": [
        {
          "output_type": "stream",
          "name": "stdout",
          "text": [
            "False\n",
            "False\n",
            "True\n"
          ]
        }
      ]
    },
    {
      "cell_type": "code",
      "source": [
        "#type convertion\n",
        "a=30\n",
        "b=45.6\n",
        "c=2+8j\n",
        "d=complex(a)\n",
        "e=float(a)\n",
        "f=int(b)\n",
        "print(d)\n",
        "print(e)\n",
        "print(f)"
      ],
      "metadata": {
        "id": "ymOihpHzCaPf",
        "colab": {
          "base_uri": "https://localhost:8080/"
        },
        "outputId": "50ed59e1-eacc-41da-cba5-5550ca1352ab"
      },
      "execution_count": null,
      "outputs": [
        {
          "output_type": "stream",
          "name": "stdout",
          "text": [
            "(30+0j)\n",
            "30.0\n",
            "45\n"
          ]
        }
      ]
    },
    {
      "cell_type": "code",
      "source": [
        "# convertion from one format to other\n",
        "a=34.5\n",
        "b=37\n",
        "c=1+8j\n",
        "d=float(b)\n",
        "e=int(a)\n",
        "f=complex(b)  \n",
        "print(d)\n",
        "print(e)\n",
        "print(f)\n",
        "\n"
      ],
      "metadata": {
        "colab": {
          "base_uri": "https://localhost:8080/"
        },
        "id": "FGUZgOJ8bo4e",
        "outputId": "5240e39a-db83-40c6-a677-7ace3125da61"
      },
      "execution_count": null,
      "outputs": [
        {
          "output_type": "stream",
          "name": "stdout",
          "text": [
            "37.0\n",
            "34\n",
            "(37+0j)\n"
          ]
        }
      ]
    },
    {
      "cell_type": "code",
      "source": [
        "#upper method\n",
        "str=\"this is dheeraj\"\n",
        "str.upper()\n"
      ],
      "metadata": {
        "colab": {
          "base_uri": "https://localhost:8080/",
          "height": 35
        },
        "id": "_PGNn_6bm8LX",
        "outputId": "2f94412e-9e1a-4741-be25-47a96b194b22"
      },
      "execution_count": null,
      "outputs": [
        {
          "output_type": "execute_result",
          "data": {
            "text/plain": [
              "'THIS IS DHEERAJ'"
            ],
            "application/vnd.google.colaboratory.intrinsic+json": {
              "type": "string"
            }
          },
          "metadata": {},
          "execution_count": 9
        }
      ]
    },
    {
      "cell_type": "code",
      "source": [
        "#lower method\n",
        "str=\"THIS IS DHEERAJ\"\n",
        "str.lower()"
      ],
      "metadata": {
        "colab": {
          "base_uri": "https://localhost:8080/",
          "height": 35
        },
        "id": "pr4vuK_mnQ5x",
        "outputId": "89a1a6ff-36f3-4450-ffa7-6353a52cd767"
      },
      "execution_count": null,
      "outputs": [
        {
          "output_type": "execute_result",
          "data": {
            "text/plain": [
              "'this is dheeraj'"
            ],
            "application/vnd.google.colaboratory.intrinsic+json": {
              "type": "string"
            }
          },
          "metadata": {},
          "execution_count": 10
        }
      ]
    },
    {
      "cell_type": "code",
      "source": [
        "#swap case\n",
        "str=\"This Is DheEraj\"\n",
        "str.swapcase()\n"
      ],
      "metadata": {
        "colab": {
          "base_uri": "https://localhost:8080/",
          "height": 35
        },
        "id": "tconj403naoV",
        "outputId": "ec121743-9d0e-493f-dcd1-82caaff3098b"
      },
      "execution_count": null,
      "outputs": [
        {
          "output_type": "execute_result",
          "data": {
            "text/plain": [
              "'tHIS iS dHEeRAJ'"
            ],
            "application/vnd.google.colaboratory.intrinsic+json": {
              "type": "string"
            }
          },
          "metadata": {},
          "execution_count": 12
        }
      ]
    },
    {
      "cell_type": "code",
      "source": [
        "#is numeric method\n",
        "str=\"12345678\"\n",
        "str.isnumeric()\n"
      ],
      "metadata": {
        "colab": {
          "base_uri": "https://localhost:8080/"
        },
        "id": "ItUsgSOhnxpR",
        "outputId": "4ffbd3e0-d600-42a1-acef-4f4ce555960e"
      },
      "execution_count": null,
      "outputs": [
        {
          "output_type": "execute_result",
          "data": {
            "text/plain": [
              "True"
            ]
          },
          "metadata": {},
          "execution_count": 13
        }
      ]
    },
    {
      "cell_type": "code",
      "source": [
        "#is capital method\n",
        "str=\"DHEERAJ\"\n",
        "str.isupper()\n"
      ],
      "metadata": {
        "colab": {
          "base_uri": "https://localhost:8080/"
        },
        "id": "Z3H7G6LkoDg2",
        "outputId": "38a31517-f582-43f0-cec6-38111f48716e"
      },
      "execution_count": null,
      "outputs": [
        {
          "output_type": "execute_result",
          "data": {
            "text/plain": [
              "True"
            ]
          },
          "metadata": {},
          "execution_count": 14
        }
      ]
    },
    {
      "cell_type": "code",
      "source": [
        "#islower method\n",
        "str=\"DHEERaj\"\n",
        "str.islower()\n",
        "\n"
      ],
      "metadata": {
        "colab": {
          "base_uri": "https://localhost:8080/"
        },
        "id": "hS4ijMVToiF_",
        "outputId": "acca9180-89b1-40cc-8416-88ceb9323642"
      },
      "execution_count": null,
      "outputs": [
        {
          "output_type": "execute_result",
          "data": {
            "text/plain": [
              "False"
            ]
          },
          "metadata": {},
          "execution_count": 15
        }
      ]
    },
    {
      "cell_type": "code",
      "source": [
        "#length\n",
        "str=\"i am handsome\"\n",
        "print(len(str))"
      ],
      "metadata": {
        "colab": {
          "base_uri": "https://localhost:8080/"
        },
        "id": "Ppx6mVOooxkW",
        "outputId": "127b0915-58d2-4e0f-93f4-4c41bd70b32a"
      },
      "execution_count": null,
      "outputs": [
        {
          "output_type": "stream",
          "name": "stdout",
          "text": [
            "13\n"
          ]
        }
      ]
    },
    {
      "cell_type": "code",
      "source": [
        "#center\n",
        "str=\"i am dheeraj\"\n",
        "str.find(\"dheeraj\")"
      ],
      "metadata": {
        "colab": {
          "base_uri": "https://localhost:8080/"
        },
        "id": "D-NgtOPopEU9",
        "outputId": "91de5f17-6806-4dbc-cbbd-808d85b2f28c"
      },
      "execution_count": null,
      "outputs": [
        {
          "output_type": "execute_result",
          "data": {
            "text/plain": [
              "5"
            ]
          },
          "metadata": {},
          "execution_count": 5
        }
      ]
    },
    {
      "cell_type": "code",
      "source": [
        "#math functions\n",
        "#square root\n",
        "import math\n",
        "print(math.sqrt(16))\n",
        "print(math.ceil(10.7))\n",
        "print(math.floor(11.6))\n",
        "print(math.log(4))\n",
        "print(math.copysign(3,-5))\n",
        "print(math.gcd(15,20))\n",
        "print(math.remainder(81,9))\n",
        "a=4\n",
        "b=9\n",
        "print(math.dist(a,b))\n"
      ],
      "metadata": {
        "id": "fpL-y2J6o4Us"
      },
      "execution_count": null,
      "outputs": []
    },
    {
      "cell_type": "code",
      "source": [
        "#string values\n",
        "a=\"i am good boy\"\n",
        "a[10]\n"
      ],
      "metadata": {
        "colab": {
          "base_uri": "https://localhost:8080/",
          "height": 35
        },
        "id": "YYWoXDMKsH0D",
        "outputId": "5fdef7b6-5e78-4bda-9f61-09cb2a0f9313"
      },
      "execution_count": null,
      "outputs": [
        {
          "output_type": "execute_result",
          "data": {
            "text/plain": [
              "'b'"
            ],
            "application/vnd.google.colaboratory.intrinsic+json": {
              "type": "string"
            }
          },
          "metadata": {},
          "execution_count": 30
        }
      ]
    },
    {
      "cell_type": "code",
      "source": [
        "a=\"rotator\"\n",
        "b=a[: :-1]\n",
        "a==b"
      ],
      "metadata": {
        "colab": {
          "base_uri": "https://localhost:8080/"
        },
        "id": "L_81MS1AxPPL",
        "outputId": "db4fe885-d968-47db-bded-68d64aa21bcb"
      },
      "execution_count": null,
      "outputs": [
        {
          "output_type": "execute_result",
          "data": {
            "text/plain": [
              "True"
            ]
          },
          "metadata": {},
          "execution_count": 3
        }
      ]
    },
    {
      "cell_type": "code",
      "source": [
        "a=float(input(\"enter number\"))\n",
        "print(a)\n",
        "print(type(a))"
      ],
      "metadata": {
        "colab": {
          "base_uri": "https://localhost:8080/"
        },
        "id": "M7e1wV1Fxvz0",
        "outputId": "47f61291-b6c7-436e-fcc6-ee9b72950fb8"
      },
      "execution_count": null,
      "outputs": [
        {
          "output_type": "stream",
          "name": "stdout",
          "text": [
            "enter number56\n",
            "56.0\n",
            "<class 'float'>\n"
          ]
        }
      ]
    },
    {
      "cell_type": "code",
      "source": [
        "b=int(input(\"enter number\"))\n",
        "print(b)"
      ],
      "metadata": {
        "id": "exqy7tF7yLxc",
        "colab": {
          "base_uri": "https://localhost:8080/"
        },
        "outputId": "32fce0ff-66ba-4ae3-a63d-f14b6eeb9984"
      },
      "execution_count": null,
      "outputs": [
        {
          "output_type": "stream",
          "name": "stdout",
          "text": [
            "enter number507\n",
            "507\n"
          ]
        }
      ]
    },
    {
      "cell_type": "code",
      "source": [
        "password=\"5314\"\n",
        "entered=int(input(\"enter password\"))\n",
        "password==entered"
      ],
      "metadata": {
        "id": "JM5xm4Yr6FhP"
      },
      "execution_count": null,
      "outputs": []
    },
    {
      "cell_type": "code",
      "source": [
        "a=\"dheeraj\"\n",
        "print(len(a))\n",
        "b=a[]\n",
        "print(b)"
      ],
      "metadata": {
        "colab": {
          "base_uri": "https://localhost:8080/"
        },
        "id": "VwCIHewM14wO",
        "outputId": "b8cba5bd-f2c5-4b99-d83b-91820733d697"
      },
      "execution_count": null,
      "outputs": [
        {
          "output_type": "stream",
          "name": "stdout",
          "text": [
            "7\n",
            "a\n"
          ]
        }
      ]
    },
    {
      "cell_type": "code",
      "source": [
        "a=int(input(\"enter number\"))\n",
        "print(a)\n",
        "print(type(a))"
      ],
      "metadata": {
        "colab": {
          "base_uri": "https://localhost:8080/"
        },
        "id": "i4JMPM4L2j1V",
        "outputId": "372f3055-ef4c-48e4-91af-0fa38c6743d1"
      },
      "execution_count": null,
      "outputs": [
        {
          "output_type": "stream",
          "name": "stdout",
          "text": [
            "enter number5314\n",
            "5314\n",
            "<class 'int'>\n"
          ]
        }
      ]
    },
    {
      "cell_type": "code",
      "source": [
        "# mat fun\n",
        "print(math.log2(2))\n"
      ],
      "metadata": {
        "colab": {
          "base_uri": "https://localhost:8080/"
        },
        "id": "ZWPfn9Uu4q6X",
        "outputId": "7a5e7c23-41c2-4266-a52e-493f5beef213"
      },
      "execution_count": null,
      "outputs": [
        {
          "output_type": "stream",
          "name": "stdout",
          "text": [
            "1.0\n"
          ]
        }
      ]
    },
    {
      "cell_type": "code",
      "source": [
        "import math\n",
        "a=(2,3,4,5)\n",
        "print(math.prod(a))"
      ],
      "metadata": {
        "colab": {
          "base_uri": "https://localhost:8080/"
        },
        "id": "ins_oKr45Grv",
        "outputId": "e90f70e7-006a-41c9-c7b6-3b74e99a3bf6"
      },
      "execution_count": null,
      "outputs": [
        {
          "output_type": "stream",
          "name": "stdout",
          "text": [
            "120\n"
          ]
        }
      ]
    },
    {
      "cell_type": "code",
      "source": [
        "import math\n",
        "print(math.perm(6,3))\n",
        "print(math.comb(5,3))\n",
        "a=(math.remainder(10,3))\n",
        "print(int(a))\n",
        "print(complex(a))\n",
        "print()"
      ],
      "metadata": {
        "colab": {
          "base_uri": "https://localhost:8080/"
        },
        "id": "pt7MXWA15Xds",
        "outputId": "39e9cc41-3cfc-4b4d-c750-ce5a7db0dea2"
      },
      "execution_count": null,
      "outputs": [
        {
          "output_type": "stream",
          "name": "stdout",
          "text": [
            "120\n",
            "10\n",
            "1\n",
            "(1+0j)\n"
          ]
        }
      ]
    },
    {
      "cell_type": "code",
      "source": [
        "a=\"dheeraj\"\n",
        "print(len(a))\n",
        "print(a[0:7])\n",
        "print(a[::-1])"
      ],
      "metadata": {
        "colab": {
          "base_uri": "https://localhost:8080/"
        },
        "id": "y43GX6Izz8RA",
        "outputId": "267de5a2-a681-4400-cb84-951295638a4e"
      },
      "execution_count": null,
      "outputs": [
        {
          "output_type": "stream",
          "name": "stdout",
          "text": [
            "7\n",
            "dheeraj\n",
            "jareehd\n"
          ]
        }
      ]
    },
    {
      "cell_type": "code",
      "source": [
        "#example for ifelse statement\n",
        "a=int(input(\"enter numer\"))\n",
        "if a%2==0:\n",
        " print(\"even\")\n",
        "else:\n",
        "  print(\"odd\")"
      ],
      "metadata": {
        "colab": {
          "base_uri": "https://localhost:8080/"
        },
        "id": "5QrQSd4w2Sh3",
        "outputId": "7abdde73-3e95-433d-f3b6-ed339e3df983"
      },
      "execution_count": null,
      "outputs": [
        {
          "output_type": "stream",
          "name": "stdout",
          "text": [
            "enter numer47\n",
            "odd\n"
          ]
        }
      ]
    },
    {
      "cell_type": "code",
      "source": [
        "a=int(input(\"enter number\"))\n",
        "if a>0:\n",
        "  print(\"positive number\")\n",
        "elif a<0:\n",
        "  print(\"negative number\")\n",
        "else :\n",
        "  print(\"neutral\")"
      ],
      "metadata": {
        "colab": {
          "base_uri": "https://localhost:8080/"
        },
        "id": "H7TtmzFe28me",
        "outputId": "5d350574-03d4-498e-97b1-27733c232e5b"
      },
      "execution_count": null,
      "outputs": [
        {
          "output_type": "stream",
          "name": "stdout",
          "text": [
            "enter number0\n",
            "neutral\n"
          ]
        }
      ]
    },
    {
      "cell_type": "code",
      "source": [
        "#if else statements\n",
        "a=int(input(\"enter number\"))\n",
        "b=int(input(\"enter number\"))\n",
        "if a>b:\n",
        "  print(\"a is greater\")\n",
        "elif b>a:\n",
        "  print(\"b is greater\")\n",
        "else:\n",
        "  print(\"both are equal   \")"
      ],
      "metadata": {
        "colab": {
          "base_uri": "https://localhost:8080/"
        },
        "id": "mfQU4jMO7WP1",
        "outputId": "969823ba-ebee-4e96-fbd5-2b8f41b9d629"
      },
      "execution_count": null,
      "outputs": [
        {
          "output_type": "stream",
          "name": "stdout",
          "text": [
            "enter number50\n",
            "enter number67\n",
            "b is greater\n"
          ]
        }
      ]
    },
    {
      "cell_type": "code",
      "source": [
        "a=10\n",
        "a+=20\n",
        "print(a)\n",
        "a-=10\n",
        "print(a)\n",
        "a*=10\n",
        "print(a)\n",
        "a%=2\n",
        "print(a)"
      ],
      "metadata": {
        "colab": {
          "base_uri": "https://localhost:8080/"
        },
        "id": "u9u8x7Or9ohO",
        "outputId": "55f46da3-72d0-4c62-d238-7a309ff038c4"
      },
      "execution_count": null,
      "outputs": [
        {
          "output_type": "stream",
          "name": "stdout",
          "text": [
            "30\n",
            "20\n",
            "200\n",
            "0\n"
          ]
        }
      ]
    },
    {
      "cell_type": "code",
      "source": [
        "print(2**3)\n",
        "print(10%2)\n",
        "print(20/20)\n",
        "print(int(20/20))\n",
        "print(complex(20/20))"
      ],
      "metadata": {
        "colab": {
          "base_uri": "https://localhost:8080/"
        },
        "id": "oWJxzrUV-NJs",
        "outputId": "978cdc27-d12c-433b-8f97-a8ea866057c9"
      },
      "execution_count": null,
      "outputs": [
        {
          "output_type": "stream",
          "name": "stdout",
          "text": [
            "8\n",
            "0\n",
            "1.0\n",
            "1\n",
            "(1+0j)\n"
          ]
        }
      ]
    },
    {
      "cell_type": "code",
      "source": [
        "a=10\n",
        "b=20\n",
        "print(a==b)\n",
        "print(a>b)\n",
        "print(a<b)\n",
        "print(a!=b)\n",
        "id(a)\n"
      ],
      "metadata": {
        "colab": {
          "base_uri": "https://localhost:8080/"
        },
        "id": "Mz10XRr0_FuF",
        "outputId": "0e449b94-995e-41f0-81f9-5fb64c97f360"
      },
      "execution_count": null,
      "outputs": [
        {
          "output_type": "stream",
          "name": "stdout",
          "text": [
            "False\n",
            "False\n",
            "True\n",
            "True\n"
          ]
        },
        {
          "output_type": "execute_result",
          "data": {
            "text/plain": [
              "9793376"
            ]
          },
          "metadata": {},
          "execution_count": 26
        }
      ]
    },
    {
      "cell_type": "code",
      "source": [],
      "metadata": {
        "id": "Afu5qw5OBqus"
      },
      "execution_count": null,
      "outputs": []
    },
    {
      "cell_type": "markdown",
      "source": [
        "**##IDENTITY OPERATOR##**"
      ],
      "metadata": {
        "id": "sjrkxfmgA8LG"
      }
    },
    {
      "cell_type": "markdown",
      "source": [
        "when we assign same number to different variables the variables will have both variables will have same meamory address \n",
        "\n",
        "##**example**##"
      ],
      "metadata": {
        "id": "GUGxn9j5BvOr"
      }
    },
    {
      "cell_type": "code",
      "source": [
        "a=100\n",
        "b=100\n",
        "c=200\n",
        "print(a is b)\n",
        "print(a is c)\n"
      ],
      "metadata": {
        "colab": {
          "base_uri": "https://localhost:8080/"
        },
        "id": "Q_21_TnbCTCt",
        "outputId": "e92b254a-9f56-4383-fdc5-ef5c1574e4ed"
      },
      "execution_count": null,
      "outputs": [
        {
          "output_type": "stream",
          "name": "stdout",
          "text": [
            "True\n",
            "False\n"
          ]
        }
      ]
    },
    {
      "cell_type": "markdown",
      "source": [
        "in this case both a,c have same address so it is giving the output as true value"
      ],
      "metadata": {
        "id": "XOhDdVN0ClDt"
      }
    },
    {
      "cell_type": "code",
      "source": [
        "#membership operators\n",
        "a=list((1,2,3,4,5,6,7,8,9,0,11,12,13,11,14,15,1,6))\n",
        "b=1\n",
        "print(b in a)"
      ],
      "metadata": {
        "colab": {
          "base_uri": "https://localhost:8080/"
        },
        "id": "1zPv9_A8DYgS",
        "outputId": "d2ee271c-3f26-499e-a700-322f12edd9c2"
      },
      "execution_count": null,
      "outputs": [
        {
          "output_type": "stream",
          "name": "stdout",
          "text": [
            "True\n"
          ]
        }
      ]
    },
    {
      "cell_type": "code",
      "source": [
        "a=100\n",
        "b=100\n",
        "c=200\n"
      ],
      "metadata": {
        "id": "yjBwsf2uErUc"
      },
      "execution_count": null,
      "outputs": []
    },
    {
      "cell_type": "code",
      "source": [
        "a=\"dheeraj\"\n",
        "a.find(\"d\")"
      ],
      "metadata": {
        "colab": {
          "base_uri": "https://localhost:8080/"
        },
        "id": "Q7iOsULrFIbE",
        "outputId": "4ee39bcb-323c-4220-91f1-538933fed859"
      },
      "execution_count": null,
      "outputs": [
        {
          "output_type": "execute_result",
          "data": {
            "text/plain": [
              "0"
            ]
          },
          "metadata": {},
          "execution_count": 41
        }
      ]
    },
    {
      "cell_type": "code",
      "source": [
        "a=10\n",
        "b=200\n",
        "print(a&b)\n",
        "print(a|b)\n",
        "print(~a)\n",
        "print(a^b)      "
      ],
      "metadata": {
        "colab": {
          "base_uri": "https://localhost:8080/"
        },
        "id": "hb2kw-DodYHt",
        "outputId": "f920b797-22f5-4d7e-dcad-1e5c040f2b55"
      },
      "execution_count": null,
      "outputs": [
        {
          "output_type": "stream",
          "name": "stdout",
          "text": [
            "8\n",
            "202\n",
            "-11\n",
            "194\n"
          ]
        }
      ]
    },
    {
      "cell_type": "code",
      "source": [
        "a=int(input(\"enter a number\"))\n",
        "b=int(input(\"enter a number\"))\n",
        "a,b=b,a \n",
        "print(a)\n",
        "print(b)"
      ],
      "metadata": {
        "colab": {
          "base_uri": "https://localhost:8080/"
        },
        "id": "AkGxXdpAf-Pl",
        "outputId": "efaa27d6-485b-45ac-a2c4-46ffbe52066b"
      },
      "execution_count": null,
      "outputs": [
        {
          "output_type": "stream",
          "name": "stdout",
          "text": [
            "enter a number80\n",
            "enter a number90\n",
            "90\n",
            "80\n"
          ]
        }
      ]
    },
    {
      "cell_type": "code",
      "source": [
        "a=\"dheeraj\"\n",
        "i=1\n",
        "while i<=10:\n",
        "  print(a)\n",
        "  i=i+1"
      ],
      "metadata": {
        "colab": {
          "base_uri": "https://localhost:8080/"
        },
        "id": "lfxILG8kjz5E",
        "outputId": "8f25961d-fe88-419b-dd74-9530ae5066fe"
      },
      "execution_count": null,
      "outputs": [
        {
          "output_type": "stream",
          "name": "stdout",
          "text": [
            "dheeraj\n",
            "dheeraj\n",
            "dheeraj\n",
            "dheeraj\n",
            "dheeraj\n",
            "dheeraj\n",
            "dheeraj\n",
            "dheeraj\n",
            "dheeraj\n",
            "dheeraj\n"
          ]
        }
      ]
    },
    {
      "cell_type": "code",
      "source": [
        "a=0\n",
        "i=0\n",
        "while i<=100:\n",
        "  if a%2==0:\n",
        "    print(\"even number\",a)\n",
        "  else:\n",
        "    print(\"odd  number\",a)\n",
        "  a=a+1\n",
        "  i=i+1"
      ],
      "metadata": {
        "colab": {
          "base_uri": "https://localhost:8080/"
        },
        "id": "VvbqNVEKkRd7",
        "outputId": "e40e69e2-a0d5-48ab-c994-0b5c1f32a35d"
      },
      "execution_count": null,
      "outputs": [
        {
          "output_type": "stream",
          "name": "stdout",
          "text": [
            "even number 0\n",
            "odd  number 1\n",
            "even number 2\n",
            "odd  number 3\n",
            "even number 4\n",
            "odd  number 5\n",
            "even number 6\n",
            "odd  number 7\n",
            "even number 8\n",
            "odd  number 9\n",
            "even number 10\n",
            "odd  number 11\n",
            "even number 12\n",
            "odd  number 13\n",
            "even number 14\n",
            "odd  number 15\n",
            "even number 16\n",
            "odd  number 17\n",
            "even number 18\n",
            "odd  number 19\n",
            "even number 20\n",
            "odd  number 21\n",
            "even number 22\n",
            "odd  number 23\n",
            "even number 24\n",
            "odd  number 25\n",
            "even number 26\n",
            "odd  number 27\n",
            "even number 28\n",
            "odd  number 29\n",
            "even number 30\n",
            "odd  number 31\n",
            "even number 32\n",
            "odd  number 33\n",
            "even number 34\n",
            "odd  number 35\n",
            "even number 36\n",
            "odd  number 37\n",
            "even number 38\n",
            "odd  number 39\n",
            "even number 40\n",
            "odd  number 41\n",
            "even number 42\n",
            "odd  number 43\n",
            "even number 44\n",
            "odd  number 45\n",
            "even number 46\n",
            "odd  number 47\n",
            "even number 48\n",
            "odd  number 49\n",
            "even number 50\n",
            "odd  number 51\n",
            "even number 52\n",
            "odd  number 53\n",
            "even number 54\n",
            "odd  number 55\n",
            "even number 56\n",
            "odd  number 57\n",
            "even number 58\n",
            "odd  number 59\n",
            "even number 60\n",
            "odd  number 61\n",
            "even number 62\n",
            "odd  number 63\n",
            "even number 64\n",
            "odd  number 65\n",
            "even number 66\n",
            "odd  number 67\n",
            "even number 68\n",
            "odd  number 69\n",
            "even number 70\n",
            "odd  number 71\n",
            "even number 72\n",
            "odd  number 73\n",
            "even number 74\n",
            "odd  number 75\n",
            "even number 76\n",
            "odd  number 77\n",
            "even number 78\n",
            "odd  number 79\n",
            "even number 80\n",
            "odd  number 81\n",
            "even number 82\n",
            "odd  number 83\n",
            "even number 84\n",
            "odd  number 85\n",
            "even number 86\n",
            "odd  number 87\n",
            "even number 88\n",
            "odd  number 89\n",
            "even number 90\n",
            "odd  number 91\n",
            "even number 92\n",
            "odd  number 93\n",
            "even number 94\n",
            "odd  number 95\n",
            "even number 96\n",
            "odd  number 97\n",
            "even number 98\n",
            "odd  number 99\n",
            "even number 100\n"
          ]
        }
      ]
    },
    {
      "cell_type": "code",
      "source": [
        "#problem\n",
        "i=1\n",
        "b=0\n",
        "while i<=6:\n",
        "  a=int(input(\"enter marks\"))\n",
        "  b=b+a\n",
        "  i=i+1\n",
        "c=b/6\n",
        "print(c)\n"
      ],
      "metadata": {
        "colab": {
          "base_uri": "https://localhost:8080/"
        },
        "id": "YfNy3jP4luMD",
        "outputId": "0501cbc1-c334-4c19-e53b-fc384d2932fe"
      },
      "execution_count": null,
      "outputs": [
        {
          "output_type": "stream",
          "name": "stdout",
          "text": [
            "enter marks80\n",
            "enter marks80\n",
            "enter marks80\n",
            "enter marks80\n",
            "enter marks80\n",
            "enter marks80\n",
            "80.0\n"
          ]
        }
      ]
    },
    {
      "cell_type": "code",
      "source": [
        "a=\"dheeraj is a good boy .dheeraj goes to clg everyday.dheeraj is very puntuality person\"\n",
        "a.replace(\"dheeraj\",\"he\")"
      ],
      "metadata": {
        "colab": {
          "base_uri": "https://localhost:8080/",
          "height": 35
        },
        "id": "5V2Nle1miv_j",
        "outputId": "ba857ac7-b8c8-497e-fbd0-a44e2626e6f8"
      },
      "execution_count": null,
      "outputs": [
        {
          "output_type": "execute_result",
          "data": {
            "text/plain": [
              "'he is a good boy .he goes to clg everyday.he is very puntuality person'"
            ],
            "application/vnd.google.colaboratory.intrinsic+json": {
              "type": "string"
            }
          },
          "metadata": {},
          "execution_count": 2
        }
      ]
    },
    {
      "cell_type": "code",
      "source": [
        "a=0\n",
        "i=1\n",
        "while i<=100:\n",
        "  if a%2==0:\n",
        "    print(a)\n",
        "  a=a+1\n",
        "  i=i+1\n",
        "  "
      ],
      "metadata": {
        "colab": {
          "base_uri": "https://localhost:8080/"
        },
        "id": "l8GRh7n5j6AR",
        "outputId": "1640de34-4e32-4fc9-ab1b-f77a5eb3dbc0"
      },
      "execution_count": null,
      "outputs": [
        {
          "output_type": "stream",
          "name": "stdout",
          "text": [
            "0\n",
            "2\n",
            "4\n",
            "6\n",
            "8\n",
            "10\n",
            "12\n",
            "14\n",
            "16\n",
            "18\n",
            "20\n",
            "22\n",
            "24\n",
            "26\n",
            "28\n",
            "30\n",
            "32\n",
            "34\n",
            "36\n",
            "38\n",
            "40\n",
            "42\n",
            "44\n",
            "46\n",
            "48\n",
            "50\n",
            "52\n",
            "54\n",
            "56\n",
            "58\n",
            "60\n",
            "62\n",
            "64\n",
            "66\n",
            "68\n",
            "70\n",
            "72\n",
            "74\n",
            "76\n",
            "78\n",
            "80\n",
            "82\n",
            "84\n",
            "86\n",
            "88\n",
            "90\n",
            "92\n",
            "94\n",
            "96\n",
            "98\n"
          ]
        }
      ]
    },
    {
      "cell_type": "code",
      "source": [
        "a=0\n",
        "for i in range(5):\n",
        "  a=a+1\n",
        "  print(a)"
      ],
      "metadata": {
        "colab": {
          "base_uri": "https://localhost:8080/"
        },
        "id": "p_Afn932kuDZ",
        "outputId": "d3430b4d-1a33-44ac-b158-7ab0f00333e6"
      },
      "execution_count": null,
      "outputs": [
        {
          "output_type": "stream",
          "name": "stdout",
          "text": [
            "1\n",
            "2\n",
            "3\n",
            "4\n",
            "5\n"
          ]
        }
      ]
    },
    {
      "cell_type": "code",
      "source": [
        "\n",
        "a=int(input(\"enter number\"))\n",
        "if a>7:\n",
        " print(\"afternoon\")"
      ],
      "metadata": {
        "colab": {
          "base_uri": "https://localhost:8080/"
        },
        "id": "clNmIu-pllx5",
        "outputId": "932933a4-0b63-470e-dbad-c66e6f227619"
      },
      "execution_count": null,
      "outputs": [
        {
          "output_type": "stream",
          "name": "stdout",
          "text": [
            "enter number9\n",
            "afternoon\n"
          ]
        }
      ]
    },
    {
      "cell_type": "code",
      "source": [
        "a=input(\"enter input\")\n",
        "b=a[ : :-1]\n",
        "print(b)"
      ],
      "metadata": {
        "colab": {
          "base_uri": "https://localhost:8080/"
        },
        "id": "V2EboiuHnT1O",
        "outputId": "7d5911db-d3b5-4eaf-c584-006878900426"
      },
      "execution_count": null,
      "outputs": [
        {
          "output_type": "stream",
          "name": "stdout",
          "text": [
            "enter inputvedhu\n",
            "uhdev\n"
          ]
        }
      ]
    },
    {
      "cell_type": "code",
      "source": [
        "i=1500\n",
        "while i<=2700:\n",
        "  if (i%3==0 and i%5==0):\n",
        "    print(i)\n",
        "  i=i+1\n"
      ],
      "metadata": {
        "colab": {
          "base_uri": "https://localhost:8080/"
        },
        "id": "_ZmGxWfOpB-m",
        "outputId": "f6f07f7c-18dc-4668-ab78-e0089245c8cc"
      },
      "execution_count": null,
      "outputs": [
        {
          "output_type": "stream",
          "name": "stdout",
          "text": [
            "1500\n",
            "1515\n",
            "1530\n",
            "1545\n",
            "1560\n",
            "1575\n",
            "1590\n",
            "1605\n",
            "1620\n",
            "1635\n",
            "1650\n",
            "1665\n",
            "1680\n",
            "1695\n",
            "1710\n",
            "1725\n",
            "1740\n",
            "1755\n",
            "1770\n",
            "1785\n",
            "1800\n",
            "1815\n",
            "1830\n",
            "1845\n",
            "1860\n",
            "1875\n",
            "1890\n",
            "1905\n",
            "1920\n",
            "1935\n",
            "1950\n",
            "1965\n",
            "1980\n",
            "1995\n",
            "2010\n",
            "2025\n",
            "2040\n",
            "2055\n",
            "2070\n",
            "2085\n",
            "2100\n",
            "2115\n",
            "2130\n",
            "2145\n",
            "2160\n",
            "2175\n",
            "2190\n",
            "2205\n",
            "2220\n",
            "2235\n",
            "2250\n",
            "2265\n",
            "2280\n",
            "2295\n",
            "2310\n",
            "2325\n",
            "2340\n",
            "2355\n",
            "2370\n",
            "2385\n",
            "2400\n",
            "2415\n",
            "2430\n",
            "2445\n",
            "2460\n",
            "2475\n",
            "2490\n",
            "2505\n",
            "2520\n",
            "2535\n",
            "2550\n",
            "2565\n",
            "2580\n",
            "2595\n",
            "2610\n",
            "2625\n",
            "2640\n",
            "2655\n",
            "2670\n",
            "2685\n",
            "2700\n"
          ]
        }
      ]
    },
    {
      "cell_type": "code",
      "source": [
        "guess_me=int(input(\"enter input\"))\n",
        "if guess_me>7:\n",
        "  print(\"too high\")\n",
        "elif guess_me<7:\n",
        "  print(\"too low\")\n",
        "else :\n",
        "  print(\"moderate\")\n"
      ],
      "metadata": {
        "colab": {
          "base_uri": "https://localhost:8080/"
        },
        "id": "gBVzy1pfqnY9",
        "outputId": "563267d2-0131-4f61-a7e2-0dfa0152e496"
      },
      "execution_count": null,
      "outputs": [
        {
          "output_type": "stream",
          "name": "stdout",
          "text": [
            "enter input10\n",
            "too high\n"
          ]
        }
      ]
    },
    {
      "cell_type": "code",
      "source": [
        "a=0\n",
        "for i in range(0,100,2):\n",
        "  print(i)"
      ],
      "metadata": {
        "colab": {
          "base_uri": "https://localhost:8080/"
        },
        "id": "bzq8SzQYgczq",
        "outputId": "3041d1fd-519f-4230-febc-b2b4399254f7"
      },
      "execution_count": null,
      "outputs": [
        {
          "output_type": "stream",
          "name": "stdout",
          "text": [
            "0\n",
            "2\n",
            "4\n",
            "6\n",
            "8\n",
            "10\n",
            "12\n",
            "14\n",
            "16\n",
            "18\n",
            "20\n",
            "22\n",
            "24\n",
            "26\n",
            "28\n",
            "30\n",
            "32\n",
            "34\n",
            "36\n",
            "38\n",
            "40\n",
            "42\n",
            "44\n",
            "46\n",
            "48\n",
            "50\n",
            "52\n",
            "54\n",
            "56\n",
            "58\n",
            "60\n",
            "62\n",
            "64\n",
            "66\n",
            "68\n",
            "70\n",
            "72\n",
            "74\n",
            "76\n",
            "78\n",
            "80\n",
            "82\n",
            "84\n",
            "86\n",
            "88\n",
            "90\n",
            "92\n",
            "94\n",
            "96\n",
            "98\n"
          ]
        }
      ]
    },
    {
      "cell_type": "code",
      "source": [
        "a=0\n",
        "for i in range(0,50,1):\n",
        "  print(a)\n",
        "  a=a+2"
      ],
      "metadata": {
        "colab": {
          "base_uri": "https://localhost:8080/"
        },
        "id": "2VY_rnbqgqHQ",
        "outputId": "f8cd98b1-44b4-424a-c5e2-2ee5f912d093"
      },
      "execution_count": null,
      "outputs": [
        {
          "output_type": "stream",
          "name": "stdout",
          "text": [
            "0\n",
            "2\n",
            "4\n",
            "6\n",
            "8\n",
            "10\n",
            "12\n",
            "14\n",
            "16\n",
            "18\n",
            "20\n",
            "22\n",
            "24\n",
            "26\n",
            "28\n",
            "30\n",
            "32\n",
            "34\n",
            "36\n",
            "38\n",
            "40\n",
            "42\n",
            "44\n",
            "46\n",
            "48\n",
            "50\n",
            "52\n",
            "54\n",
            "56\n",
            "58\n",
            "60\n",
            "62\n",
            "64\n",
            "66\n",
            "68\n",
            "70\n",
            "72\n",
            "74\n",
            "76\n",
            "78\n",
            "80\n",
            "82\n",
            "84\n",
            "86\n",
            "88\n",
            "90\n",
            "92\n",
            "94\n",
            "96\n",
            "98\n"
          ]
        }
      ]
    },
    {
      "cell_type": "code",
      "source": [],
      "metadata": {
        "id": "LRf8BRtZyHqX"
      },
      "execution_count": null,
      "outputs": []
    },
    {
      "cell_type": "markdown",
      "source": [
        "##excercise problems##\n",
        "1)"
      ],
      "metadata": {
        "id": "qGXW95jnyI8Y"
      }
    },
    {
      "cell_type": "code",
      "source": [
        "a=input(\"enter input\")\n",
        "print(a)"
      ],
      "metadata": {
        "id": "ubSGE4iGyQm8"
      },
      "execution_count": null,
      "outputs": []
    },
    {
      "cell_type": "markdown",
      "source": [
        "2)"
      ],
      "metadata": {
        "id": "boSxfVcEyhRX"
      }
    },
    {
      "cell_type": "code",
      "source": [
        "a,b=\"dheeraj\",\"venkat\"\n",
        "print(\"{1}.{0}\".format(a,b))"
      ],
      "metadata": {
        "colab": {
          "base_uri": "https://localhost:8080/"
        },
        "id": "HcqZ8oE6yir0",
        "outputId": "a9e62207-a7b2-4f28-d810-424ed8803def"
      },
      "execution_count": null,
      "outputs": [
        {
          "output_type": "stream",
          "name": "stdout",
          "text": [
            "venkat.dheeraj\n"
          ]
        }
      ]
    },
    {
      "cell_type": "code",
      "source": [
        "a,b,c,d=1,2,3,4\n",
        "print(\"a is {2}, b is {1},c is {3},d is {0}\".format(d,b,a,c))"
      ],
      "metadata": {
        "colab": {
          "base_uri": "https://localhost:8080/"
        },
        "id": "3yIBt55Yzpu2",
        "outputId": "1d6d98d4-d9fe-450c-aa56-e92f24eb97cc"
      },
      "execution_count": null,
      "outputs": [
        {
          "output_type": "stream",
          "name": "stdout",
          "text": [
            "a is 1, b is 2,c is 3,d is 4\n"
          ]
        }
      ]
    },
    {
      "cell_type": "markdown",
      "source": [
        "3)"
      ],
      "metadata": {
        "id": "2XzCkDSv0EI8"
      }
    },
    {
      "cell_type": "code",
      "source": [
        "a=int(input(\"enter number\"))\n",
        "b=int(input(\"enter number\"))\n",
        "print(a+b)\n",
        "print(a-b)\n",
        "print(a*b)\n",
        "print(a/b)\n",
        "print(a%b)"
      ],
      "metadata": {
        "colab": {
          "base_uri": "https://localhost:8080/"
        },
        "id": "oO0rDkxv0FKL",
        "outputId": "9bebc69a-ae96-4301-b3b9-456488552ba2"
      },
      "execution_count": null,
      "outputs": [
        {
          "output_type": "stream",
          "name": "stdout",
          "text": [
            "enter number50\n",
            "enter number25\n",
            "75\n",
            "25\n",
            "1250\n",
            "2.0\n",
            "0\n"
          ]
        }
      ]
    },
    {
      "cell_type": "code",
      "source": [
        "a=float(input(\"enter number\"))\n",
        "b=float(input(\"enter number\"))\n",
        "print(a+b)\n",
        "print(a-b)\n",
        "print(a*b)\n",
        "print(a/b)\n",
        "print(a%b)"
      ],
      "metadata": {
        "colab": {
          "base_uri": "https://localhost:8080/"
        },
        "id": "te-XuRF60c-M",
        "outputId": "43f72ef6-c990-4aab-aed2-e182d5d4d3e8"
      },
      "execution_count": null,
      "outputs": [
        {
          "output_type": "stream",
          "name": "stdout",
          "text": [
            "enter number50.5\n",
            "enter number5.5\n",
            "56.0\n",
            "45.0\n",
            "277.75\n",
            "9.181818181818182\n",
            "1.0\n"
          ]
        }
      ]
    },
    {
      "cell_type": "markdown",
      "source": [
        "4)"
      ],
      "metadata": {
        "id": "KMdzJj9e09u3"
      }
    },
    {
      "cell_type": "code",
      "source": [
        "a=int(input(\"enter hours\"))\n",
        "b=a*60\n",
        "print(\"minutes:\",b)"
      ],
      "metadata": {
        "colab": {
          "base_uri": "https://localhost:8080/"
        },
        "id": "CiFRROsV0-xR",
        "outputId": "b3201c4e-cc20-419f-e4cb-7e84f5980fa1"
      },
      "execution_count": null,
      "outputs": [
        {
          "output_type": "stream",
          "name": "stdout",
          "text": [
            "enter hours2\n",
            "minutes: 120\n"
          ]
        }
      ]
    },
    {
      "cell_type": "code",
      "source": [
        "a=int(input(\"enter miles\"))\n",
        "b=(a*1.60934)\n",
        "print(\"in miles:\",b)"
      ],
      "metadata": {
        "colab": {
          "base_uri": "https://localhost:8080/"
        },
        "id": "B6ZucuJu1VRu",
        "outputId": "5acc6129-3bb9-41f3-b5bb-0f51f4ec4abe"
      },
      "execution_count": null,
      "outputs": [
        {
          "output_type": "stream",
          "name": "stdout",
          "text": [
            "enter miles5\n",
            "in miles: 8.0467\n"
          ]
        }
      ]
    },
    {
      "cell_type": "markdown",
      "source": [
        "5)"
      ],
      "metadata": {
        "id": "1Ak-VJ251xQn"
      }
    },
    {
      "cell_type": "code",
      "source": [
        "import math\n",
        "a=float(input(\"enter number\"))\n",
        "print(math.ceil(a))\n"
      ],
      "metadata": {
        "colab": {
          "base_uri": "https://localhost:8080/"
        },
        "id": "wbD5Jghj10S-",
        "outputId": "0db7c62a-0295-4eb6-d974-73158f85ab6b"
      },
      "execution_count": null,
      "outputs": [
        {
          "output_type": "stream",
          "name": "stdout",
          "text": [
            "enter number.45\n",
            "1\n"
          ]
        }
      ]
    },
    {
      "cell_type": "code",
      "source": [
        "a=int(input(\"enter number\"))\n",
        "b=int(input(\"enter power\"))\n",
        "print(math.pow(a,b))"
      ],
      "metadata": {
        "colab": {
          "base_uri": "https://localhost:8080/"
        },
        "id": "N8tLcWcd2cPf",
        "outputId": "7a896ffe-a42f-4fd6-c55c-03d1e956c4fe"
      },
      "execution_count": null,
      "outputs": [
        {
          "output_type": "stream",
          "name": "stdout",
          "text": [
            "enter number2\n",
            "enter power3\n",
            "8.0\n"
          ]
        }
      ]
    },
    {
      "cell_type": "code",
      "source": [
        "a=float(input(\"enter number\"))\n",
        "print(math.floor(a))"
      ],
      "metadata": {
        "colab": {
          "base_uri": "https://localhost:8080/"
        },
        "id": "tK8VrmzV2w03",
        "outputId": "7c8ff140-8a33-4807-a75c-93ed87efad24"
      },
      "execution_count": null,
      "outputs": [
        {
          "output_type": "stream",
          "name": "stdout",
          "text": [
            "enter number1.46\n",
            "1\n"
          ]
        }
      ]
    },
    {
      "cell_type": "code",
      "source": [
        "a=int(input(\"enter number\"))\n",
        "print(int(math.sqrt(a)))\n"
      ],
      "metadata": {
        "colab": {
          "base_uri": "https://localhost:8080/"
        },
        "id": "KS8Whww82-T3",
        "outputId": "82b52a74-dc70-4565-aefd-9a1256e20183"
      },
      "execution_count": null,
      "outputs": [
        {
          "output_type": "stream",
          "name": "stdout",
          "text": [
            "enter number4\n",
            "2\n"
          ]
        }
      ]
    },
    {
      "cell_type": "code",
      "source": [
        "a=int(input(\"enter number\"))\n",
        "b=int(input(\"enter number\"))\n",
        "print(math.remainder(a,b))"
      ],
      "metadata": {
        "id": "uDYr2Hm_3N14"
      },
      "execution_count": null,
      "outputs": []
    },
    {
      "cell_type": "markdown",
      "source": [
        "6)"
      ],
      "metadata": {
        "id": "5HN9DfFy4xGI"
      }
    },
    {
      "cell_type": "code",
      "source": [
        "a=input(\"enter operator\")\n",
        "if a=='+':\n",
        "  b=int(input(\"enter a value\"))\n",
        "  c=int(input(\"enter a value\"))\n",
        "  print(b+c)\n",
        "elif a==\"-\":\n",
        "  b=int(input(\"enter a value\"))\n",
        "  c=int(input(\"enter a value\"))\n",
        "  print(b-c)\n",
        "elif a==\"*\":\n",
        "  b=int(input(\"enter a value\"))\n",
        "  c=int(input(\"enter a value\"))\n",
        "  print(b*c)\n",
        "elif a=='/':\n",
        "  b=int(input(\"enter a value\"))\n",
        "  c=int(input(\"enter a value\"))\n",
        "else :\n",
        "  b=int(input(\"enter a value\"))\n",
        "  c=int(input(\"enter a value\"))\n",
        "  print(b%c)"
      ],
      "metadata": {
        "colab": {
          "base_uri": "https://localhost:8080/"
        },
        "id": "T0fl5IIGdHRT",
        "outputId": "96aa3542-a40e-4bc6-dbe4-349f09d4bdc0"
      },
      "execution_count": 5,
      "outputs": [
        {
          "output_type": "stream",
          "name": "stdout",
          "text": [
            "enter operator%\n",
            "enter a value4\n",
            "enter a value2\n",
            "0\n"
          ]
        }
      ]
    },
    {
      "cell_type": "markdown",
      "source": [
        "7)"
      ],
      "metadata": {
        "id": "k7nyc1IQfCHP"
      }
    },
    {
      "cell_type": "code",
      "source": [
        "i=1\n",
        "b=0\n",
        "while i<=6:\n",
        "  a=int(input(\"enter marks\"))\n",
        "  b=b+a\n",
        "  i=i+1\n",
        "c=b/6\n",
        "print(\"grade of six subjects is\",c)"
      ],
      "metadata": {
        "colab": {
          "base_uri": "https://localhost:8080/"
        },
        "id": "Eyn9Vk2NfDVC",
        "outputId": "7904aed9-0ce1-4393-b4da-ec60fdbdad1a"
      },
      "execution_count": 6,
      "outputs": [
        {
          "output_type": "stream",
          "name": "stdout",
          "text": [
            "enter marks100\n",
            "enter marks100\n",
            "enter marks100\n",
            "enter marks100\n",
            "enter marks100\n",
            "enter marks100\n",
            "grade of six subjects is 100.0\n"
          ]
        }
      ]
    },
    {
      "cell_type": "markdown",
      "source": [
        "8)"
      ],
      "metadata": {
        "id": "7A-dROzhfyaG"
      }
    },
    {
      "cell_type": "code",
      "source": [
        "i=1\n",
        "count=0\n",
        "while i<=100:\n",
        "  if i%2==0:\n",
        "    print(\"even number\",i)\n",
        "    count=count+1\n",
        "  i=i+1\n",
        "print(\"count:\",count)"
      ],
      "metadata": {
        "colab": {
          "base_uri": "https://localhost:8080/"
        },
        "id": "fnYO6TUDfzei",
        "outputId": "bb88ea37-3726-4039-ae45-5a338baec2ce"
      },
      "execution_count": 15,
      "outputs": [
        {
          "output_type": "stream",
          "name": "stdout",
          "text": [
            "even number 2\n",
            "even number 4\n",
            "even number 6\n",
            "even number 8\n",
            "even number 10\n",
            "even number 12\n",
            "even number 14\n",
            "even number 16\n",
            "even number 18\n",
            "even number 20\n",
            "even number 22\n",
            "even number 24\n",
            "even number 26\n",
            "even number 28\n",
            "even number 30\n",
            "even number 32\n",
            "even number 34\n",
            "even number 36\n",
            "even number 38\n",
            "even number 40\n",
            "even number 42\n",
            "even number 44\n",
            "even number 46\n",
            "even number 48\n",
            "even number 50\n",
            "even number 52\n",
            "even number 54\n",
            "even number 56\n",
            "even number 58\n",
            "even number 60\n",
            "even number 62\n",
            "even number 64\n",
            "even number 66\n",
            "even number 68\n",
            "even number 70\n",
            "even number 72\n",
            "even number 74\n",
            "even number 76\n",
            "even number 78\n",
            "even number 80\n",
            "even number 82\n",
            "even number 84\n",
            "even number 86\n",
            "even number 88\n",
            "even number 90\n",
            "even number 92\n",
            "even number 94\n",
            "even number 96\n",
            "even number 98\n",
            "even number 100\n",
            "50\n"
          ]
        }
      ]
    },
    {
      "cell_type": "code",
      "source": [
        "i=0\n",
        "count=0\n",
        "while i<=100:\n",
        "  if i%2!=0:\n",
        "    print(\"odd number\",i)\n",
        "    count=count+1\n",
        "  i=i+1\n",
        "print(\"count\",count)"
      ],
      "metadata": {
        "colab": {
          "base_uri": "https://localhost:8080/"
        },
        "id": "B4ZjVzYrhJK6",
        "outputId": "f13dbe92-d6c2-4539-fabf-1fbf5df5d932"
      },
      "execution_count": 16,
      "outputs": [
        {
          "output_type": "stream",
          "name": "stdout",
          "text": [
            "odd number 1\n",
            "odd number 3\n",
            "odd number 5\n",
            "odd number 7\n",
            "odd number 9\n",
            "odd number 11\n",
            "odd number 13\n",
            "odd number 15\n",
            "odd number 17\n",
            "odd number 19\n",
            "odd number 21\n",
            "odd number 23\n",
            "odd number 25\n",
            "odd number 27\n",
            "odd number 29\n",
            "odd number 31\n",
            "odd number 33\n",
            "odd number 35\n",
            "odd number 37\n",
            "odd number 39\n",
            "odd number 41\n",
            "odd number 43\n",
            "odd number 45\n",
            "odd number 47\n",
            "odd number 49\n",
            "odd number 51\n",
            "odd number 53\n",
            "odd number 55\n",
            "odd number 57\n",
            "odd number 59\n",
            "odd number 61\n",
            "odd number 63\n",
            "odd number 65\n",
            "odd number 67\n",
            "odd number 69\n",
            "odd number 71\n",
            "odd number 73\n",
            "odd number 75\n",
            "odd number 77\n",
            "odd number 79\n",
            "odd number 81\n",
            "odd number 83\n",
            "odd number 85\n",
            "odd number 87\n",
            "odd number 89\n",
            "odd number 91\n",
            "odd number 93\n",
            "odd number 95\n",
            "odd number 97\n",
            "odd number 99\n",
            "count 50\n"
          ]
        }
      ]
    },
    {
      "cell_type": "markdown",
      "source": [
        "9)"
      ],
      "metadata": {
        "id": "FZZXhWusiBRE"
      }
    },
    {
      "cell_type": "code",
      "source": [
        "import math\n",
        "a=int(input(\"enter number\"))\n",
        "print(math.factorial(a))\n",
        "\n"
      ],
      "metadata": {
        "colab": {
          "base_uri": "https://localhost:8080/"
        },
        "id": "Q4cPGBNZiIAH",
        "outputId": "61b56106-309e-41e5-bfc4-970ba6c50631"
      },
      "execution_count": 17,
      "outputs": [
        {
          "output_type": "stream",
          "name": "stdout",
          "text": [
            "enter number5\n",
            "120\n"
          ]
        }
      ]
    },
    {
      "cell_type": "code",
      "source": [
        "import math\n",
        "a=int(input(\"enter a number\"))\n",
        "b=int(input(\"enter a number\"))\n",
        "print(math.gcd(a,b))"
      ],
      "metadata": {
        "colab": {
          "base_uri": "https://localhost:8080/"
        },
        "id": "YIGFnjQDjYcF",
        "outputId": "8c05ef00-3593-4983-a513-2f74dfb8d0f7"
      },
      "execution_count": 18,
      "outputs": [
        {
          "output_type": "stream",
          "name": "stdout",
          "text": [
            "enter a number34\n",
            "enter a number12\n",
            "2\n"
          ]
        }
      ]
    },
    {
      "cell_type": "code",
      "source": [
        "a=int(input(\"enter number\"))\n",
        "i=3\n",
        "b=0\n",
        "c=1\n",
        "next=b+c\n",
        "print('0\\n1')\n",
        "while i<=a:\n",
        "  print(next)\n",
        "  b=c\n",
        "  c=next\n",
        "  next=b+c\n",
        "  i=i+1\n",
        "\n",
        "\n",
        "\n"
      ],
      "metadata": {
        "colab": {
          "base_uri": "https://localhost:8080/"
        },
        "id": "n5dF2NjWjtmQ",
        "outputId": "1fe58d25-fc2a-4c03-cd8c-513844200f75"
      },
      "execution_count": 21,
      "outputs": [
        {
          "output_type": "stream",
          "name": "stdout",
          "text": [
            "enter number5\n",
            "0\n",
            "1\n",
            "1\n",
            "2\n",
            "3\n"
          ]
        }
      ]
    },
    {
      "cell_type": "markdown",
      "source": [
        "10)"
      ],
      "metadata": {
        "id": "WVedo2FklLED"
      }
    },
    {
      "cell_type": "code",
      "source": [
        "a=input(\"enter input\")\n",
        "b=a[: :-1]\n",
        "a==b"
      ],
      "metadata": {
        "id": "JRX2_Dn5lM0t"
      },
      "execution_count": null,
      "outputs": []
    }
  ]
}